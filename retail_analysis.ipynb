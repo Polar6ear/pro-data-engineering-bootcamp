{
 "cells": [
  {
   "cell_type": "code",
   "execution_count": 44,
   "id": "1e34b4ca-0786-46dc-b0ef-50c1518eba62",
   "metadata": {},
   "outputs": [],
   "source": [
    "import pandas as pd\n"
   ]
  },
  {
   "cell_type": "code",
   "execution_count": 45,
   "id": "d104865f-f2bf-44af-bae5-dade26295922",
   "metadata": {},
   "outputs": [
    {
     "data": {
      "text/html": [
       "<div>\n",
       "<style scoped>\n",
       "    .dataframe tbody tr th:only-of-type {\n",
       "        vertical-align: middle;\n",
       "    }\n",
       "\n",
       "    .dataframe tbody tr th {\n",
       "        vertical-align: top;\n",
       "    }\n",
       "\n",
       "    .dataframe thead th {\n",
       "        text-align: right;\n",
       "    }\n",
       "</style>\n",
       "<table border=\"1\" class=\"dataframe\">\n",
       "  <thead>\n",
       "    <tr style=\"text-align: right;\">\n",
       "      <th></th>\n",
       "      <th>Date</th>\n",
       "      <th>Product</th>\n",
       "      <th>Category</th>\n",
       "      <th>Price</th>\n",
       "      <th>Quantity</th>\n",
       "      <th>Revenue</th>\n",
       "      <th>Region</th>\n",
       "    </tr>\n",
       "  </thead>\n",
       "  <tbody>\n",
       "    <tr>\n",
       "      <th>0</th>\n",
       "      <td>2025-01-05</td>\n",
       "      <td>Laptop</td>\n",
       "      <td>Electronics</td>\n",
       "      <td>50000</td>\n",
       "      <td>1</td>\n",
       "      <td>50000</td>\n",
       "      <td>North</td>\n",
       "    </tr>\n",
       "    <tr>\n",
       "      <th>1</th>\n",
       "      <td>2025-01-18</td>\n",
       "      <td>Phone</td>\n",
       "      <td>Electronics</td>\n",
       "      <td>30000</td>\n",
       "      <td>2</td>\n",
       "      <td>60000</td>\n",
       "      <td>South</td>\n",
       "    </tr>\n",
       "    <tr>\n",
       "      <th>2</th>\n",
       "      <td>2025-02-10</td>\n",
       "      <td>Laptop</td>\n",
       "      <td>Electronics</td>\n",
       "      <td>50000</td>\n",
       "      <td>1</td>\n",
       "      <td>50000</td>\n",
       "      <td>North</td>\n",
       "    </tr>\n",
       "    <tr>\n",
       "      <th>3</th>\n",
       "      <td>2025-02-24</td>\n",
       "      <td>Phone</td>\n",
       "      <td>Electronics</td>\n",
       "      <td>30000</td>\n",
       "      <td>3</td>\n",
       "      <td>90000</td>\n",
       "      <td>West</td>\n",
       "    </tr>\n",
       "    <tr>\n",
       "      <th>4</th>\n",
       "      <td>2025-03-01</td>\n",
       "      <td>Laptop</td>\n",
       "      <td>Electronics</td>\n",
       "      <td>50000</td>\n",
       "      <td>1</td>\n",
       "      <td>50000</td>\n",
       "      <td>East</td>\n",
       "    </tr>\n",
       "  </tbody>\n",
       "</table>\n",
       "</div>"
      ],
      "text/plain": [
       "         Date Product     Category  Price  Quantity  Revenue Region\n",
       "0  2025-01-05  Laptop  Electronics  50000         1    50000  North\n",
       "1  2025-01-18   Phone  Electronics  30000         2    60000  South\n",
       "2  2025-02-10  Laptop  Electronics  50000         1    50000  North\n",
       "3  2025-02-24   Phone  Electronics  30000         3    90000   West\n",
       "4  2025-03-01  Laptop  Electronics  50000         1    50000   East"
      ]
     },
     "execution_count": 45,
     "metadata": {},
     "output_type": "execute_result"
    }
   ],
   "source": [
    "df = pd.read_csv(\"sales.csv\")\n",
    "df.head()"
   ]
  },
  {
   "cell_type": "code",
   "execution_count": 46,
   "id": "23cc96b8-4522-4ddc-b3c2-823f92f416cd",
   "metadata": {},
   "outputs": [
    {
     "name": "stdout",
     "output_type": "stream",
     "text": [
      "Date        object\n",
      "Product     object\n",
      "Category    object\n",
      "Price        int64\n",
      "Quantity     int64\n",
      "Revenue      int64\n",
      "Region      object\n",
      "dtype: object\n",
      "Date        0\n",
      "Product     0\n",
      "Category    0\n",
      "Price       0\n",
      "Quantity    0\n",
      "Revenue     0\n",
      "Region      0\n",
      "dtype: int64\n"
     ]
    }
   ],
   "source": [
    "print(df.dtypes)\n",
    "df['Date'] = pd.to_datetime(df[\"Date\"])\n",
    "print(df.isnull().sum())"
   ]
  },
  {
   "cell_type": "code",
   "execution_count": 47,
   "id": "ac809e9e-9f23-4ac2-8e7c-fa691252660a",
   "metadata": {},
   "outputs": [
    {
     "data": {
      "text/html": [
       "<div>\n",
       "<style scoped>\n",
       "    .dataframe tbody tr th:only-of-type {\n",
       "        vertical-align: middle;\n",
       "    }\n",
       "\n",
       "    .dataframe tbody tr th {\n",
       "        vertical-align: top;\n",
       "    }\n",
       "\n",
       "    .dataframe thead th {\n",
       "        text-align: right;\n",
       "    }\n",
       "</style>\n",
       "<table border=\"1\" class=\"dataframe\">\n",
       "  <thead>\n",
       "    <tr style=\"text-align: right;\">\n",
       "      <th></th>\n",
       "      <th>Date</th>\n",
       "      <th>Product</th>\n",
       "      <th>Category</th>\n",
       "      <th>Price</th>\n",
       "      <th>Quantity</th>\n",
       "      <th>Revenue</th>\n",
       "      <th>Region</th>\n",
       "    </tr>\n",
       "  </thead>\n",
       "  <tbody>\n",
       "    <tr>\n",
       "      <th>0</th>\n",
       "      <td>2025-01-05</td>\n",
       "      <td>Laptop</td>\n",
       "      <td>Electronics</td>\n",
       "      <td>50000</td>\n",
       "      <td>1</td>\n",
       "      <td>50000</td>\n",
       "      <td>North</td>\n",
       "    </tr>\n",
       "    <tr>\n",
       "      <th>1</th>\n",
       "      <td>2025-01-18</td>\n",
       "      <td>Phone</td>\n",
       "      <td>Electronics</td>\n",
       "      <td>30000</td>\n",
       "      <td>2</td>\n",
       "      <td>60000</td>\n",
       "      <td>South</td>\n",
       "    </tr>\n",
       "    <tr>\n",
       "      <th>2</th>\n",
       "      <td>2025-02-10</td>\n",
       "      <td>Laptop</td>\n",
       "      <td>Electronics</td>\n",
       "      <td>50000</td>\n",
       "      <td>1</td>\n",
       "      <td>50000</td>\n",
       "      <td>North</td>\n",
       "    </tr>\n",
       "    <tr>\n",
       "      <th>3</th>\n",
       "      <td>2025-02-24</td>\n",
       "      <td>Phone</td>\n",
       "      <td>Electronics</td>\n",
       "      <td>30000</td>\n",
       "      <td>3</td>\n",
       "      <td>90000</td>\n",
       "      <td>West</td>\n",
       "    </tr>\n",
       "    <tr>\n",
       "      <th>4</th>\n",
       "      <td>2025-03-01</td>\n",
       "      <td>Laptop</td>\n",
       "      <td>Electronics</td>\n",
       "      <td>50000</td>\n",
       "      <td>1</td>\n",
       "      <td>50000</td>\n",
       "      <td>East</td>\n",
       "    </tr>\n",
       "  </tbody>\n",
       "</table>\n",
       "</div>"
      ],
      "text/plain": [
       "        Date Product     Category  Price  Quantity  Revenue Region\n",
       "0 2025-01-05  Laptop  Electronics  50000         1    50000  North\n",
       "1 2025-01-18   Phone  Electronics  30000         2    60000  South\n",
       "2 2025-02-10  Laptop  Electronics  50000         1    50000  North\n",
       "3 2025-02-24   Phone  Electronics  30000         3    90000   West\n",
       "4 2025-03-01  Laptop  Electronics  50000         1    50000   East"
      ]
     },
     "execution_count": 47,
     "metadata": {},
     "output_type": "execute_result"
    }
   ],
   "source": [
    "df[\"Revenue\"] = df[\"Revenue\"].fillna(0)\n",
    "df.head()"
   ]
  },
  {
   "cell_type": "code",
   "execution_count": 48,
   "id": "25851265-efe4-40ed-9b7e-b9f945b8122d",
   "metadata": {},
   "outputs": [
    {
     "name": "stdout",
     "output_type": "stream",
     "text": [
      "Total Revenue: 300000\n",
      "Unique Products: 2\n",
      "Region\n",
      "East      50000\n",
      "North    100000\n",
      "South     60000\n",
      "West      90000\n",
      "Name: Revenue, dtype: int64\n",
      "Month\n",
      "2025-01    110000\n",
      "2025-02    140000\n",
      "2025-03     50000\n",
      "Freq: M, Name: Revenue, dtype: int64\n"
     ]
    },
    {
     "data": {
      "text/html": [
       "<div>\n",
       "<style scoped>\n",
       "    .dataframe tbody tr th:only-of-type {\n",
       "        vertical-align: middle;\n",
       "    }\n",
       "\n",
       "    .dataframe tbody tr th {\n",
       "        vertical-align: top;\n",
       "    }\n",
       "\n",
       "    .dataframe thead th {\n",
       "        text-align: right;\n",
       "    }\n",
       "</style>\n",
       "<table border=\"1\" class=\"dataframe\">\n",
       "  <thead>\n",
       "    <tr style=\"text-align: right;\">\n",
       "      <th></th>\n",
       "      <th>Date</th>\n",
       "      <th>Product</th>\n",
       "      <th>Category</th>\n",
       "      <th>Price</th>\n",
       "      <th>Quantity</th>\n",
       "      <th>Revenue</th>\n",
       "      <th>Region</th>\n",
       "      <th>Month</th>\n",
       "    </tr>\n",
       "  </thead>\n",
       "  <tbody>\n",
       "    <tr>\n",
       "      <th>0</th>\n",
       "      <td>2025-01-05</td>\n",
       "      <td>Laptop</td>\n",
       "      <td>Electronics</td>\n",
       "      <td>50000</td>\n",
       "      <td>1</td>\n",
       "      <td>50000</td>\n",
       "      <td>North</td>\n",
       "      <td>2025-01</td>\n",
       "    </tr>\n",
       "    <tr>\n",
       "      <th>1</th>\n",
       "      <td>2025-01-18</td>\n",
       "      <td>Phone</td>\n",
       "      <td>Electronics</td>\n",
       "      <td>30000</td>\n",
       "      <td>2</td>\n",
       "      <td>60000</td>\n",
       "      <td>South</td>\n",
       "      <td>2025-01</td>\n",
       "    </tr>\n",
       "    <tr>\n",
       "      <th>2</th>\n",
       "      <td>2025-02-10</td>\n",
       "      <td>Laptop</td>\n",
       "      <td>Electronics</td>\n",
       "      <td>50000</td>\n",
       "      <td>1</td>\n",
       "      <td>50000</td>\n",
       "      <td>North</td>\n",
       "      <td>2025-02</td>\n",
       "    </tr>\n",
       "    <tr>\n",
       "      <th>3</th>\n",
       "      <td>2025-02-24</td>\n",
       "      <td>Phone</td>\n",
       "      <td>Electronics</td>\n",
       "      <td>30000</td>\n",
       "      <td>3</td>\n",
       "      <td>90000</td>\n",
       "      <td>West</td>\n",
       "      <td>2025-02</td>\n",
       "    </tr>\n",
       "    <tr>\n",
       "      <th>4</th>\n",
       "      <td>2025-03-01</td>\n",
       "      <td>Laptop</td>\n",
       "      <td>Electronics</td>\n",
       "      <td>50000</td>\n",
       "      <td>1</td>\n",
       "      <td>50000</td>\n",
       "      <td>East</td>\n",
       "      <td>2025-03</td>\n",
       "    </tr>\n",
       "  </tbody>\n",
       "</table>\n",
       "</div>"
      ],
      "text/plain": [
       "        Date Product     Category  Price  Quantity  Revenue Region    Month\n",
       "0 2025-01-05  Laptop  Electronics  50000         1    50000  North  2025-01\n",
       "1 2025-01-18   Phone  Electronics  30000         2    60000  South  2025-01\n",
       "2 2025-02-10  Laptop  Electronics  50000         1    50000  North  2025-02\n",
       "3 2025-02-24   Phone  Electronics  30000         3    90000   West  2025-02\n",
       "4 2025-03-01  Laptop  Electronics  50000         1    50000   East  2025-03"
      ]
     },
     "execution_count": 48,
     "metadata": {},
     "output_type": "execute_result"
    }
   ],
   "source": [
    "print(\"Total Revenue:\", df[\"Revenue\"].sum()) #total revenue\n",
    "print(\"Unique Products:\", df[\"Product\"].nunique()) #unique products\n",
    "print(df.groupby(\"Region\")[\"Revenue\"].sum()) #Sales by region\n",
    "\n",
    "df['Month'] = df[\"Date\"].dt.to_period(\"M\")\n",
    "print(df.groupby(\"Month\")[\"Revenue\"].sum())\n",
    "df.head()"
   ]
  },
  {
   "cell_type": "code",
   "execution_count": 50,
   "id": "5bf267b9-3ea2-442e-a2c8-edd4284598b6",
   "metadata": {},
   "outputs": [],
   "source": [
    "df.to_csv(\"sales_cleaned.csv\", index=False)"
   ]
  },
  {
   "cell_type": "code",
   "execution_count": 51,
   "id": "1d424c79-12c0-4c12-a5da-2adf2622b8dc",
   "metadata": {},
   "outputs": [],
   "source": [
    "def top_products_by_revenue(df, top_n=3):\n",
    "    product_rev = df.groupby(\"Product\")[\"Revenue\"].sum().reset_index()\n",
    "    sorted_rev = product_rev.sort_values(by=\"Revenue\", ascending=False)\n",
    "    return sorted_rev.head(top_n)"
   ]
  },
  {
   "cell_type": "code",
   "execution_count": 52,
   "id": "0bd785c9-31da-4bb9-9c18-36e7feef9a23",
   "metadata": {},
   "outputs": [],
   "source": [
    "def monthly_sales_summary(df):\n",
    "    df[\"Month\"] = pd.to_datetime(df[\"Date\"]).dt.to_period(\"M\")\n",
    "    summary = df.groupby(\"Month\").agg({\n",
    "        \"Revenue\": \"sum\",\n",
    "        \"Quantity\": \"sum\",\n",
    "    }).reset_index()\n",
    "    return summary"
   ]
  },
  {
   "cell_type": "code",
   "execution_count": 53,
   "id": "6f2e2862-0085-4145-b38d-19b2bf8b6d8d",
   "metadata": {},
   "outputs": [],
   "source": [
    "def region_wise_kpi_report(df):\n",
    "    kpi = df.groupby(\"Region\").agg({\n",
    "        \"Revenue\": \"sum\",\n",
    "        \"Quantity\": \"sum\",\n",
    "        \"Product\": \"nunique\"\n",
    "    }).reset_index()\n",
    "    kpi.rename(columns={\n",
    "        \"Revenue\": \"TotalRevenue\",\n",
    "        \"Quantity\": \"TotalQuantity\",\n",
    "    },inplace=True)\n",
    "    return kpi\n",
    "    \n",
    "        "
   ]
  },
  {
   "cell_type": "code",
   "execution_count": 54,
   "id": "7f96dba0-7577-4693-b5a1-1617273f8b1e",
   "metadata": {},
   "outputs": [
    {
     "name": "stdout",
     "output_type": "stream",
     "text": [
      "  Product  Revenue\n",
      "0  Laptop   150000\n",
      "1   Phone   150000\n"
     ]
    }
   ],
   "source": [
    "print(top_products_by_revenue(df))"
   ]
  },
  {
   "cell_type": "code",
   "execution_count": 55,
   "id": "a6de9f59-9e01-453b-8ffd-20127be6e78d",
   "metadata": {},
   "outputs": [
    {
     "name": "stdout",
     "output_type": "stream",
     "text": [
      "     Month  Revenue  Quantity\n",
      "0  2025-01   110000         3\n",
      "1  2025-02   140000         4\n",
      "2  2025-03    50000         1\n"
     ]
    }
   ],
   "source": [
    "print(monthly_sales_summary(df))"
   ]
  },
  {
   "cell_type": "code",
   "execution_count": 56,
   "id": "29227dc4-ebba-4098-a4db-2dd7e2842016",
   "metadata": {},
   "outputs": [
    {
     "name": "stdout",
     "output_type": "stream",
     "text": [
      "  Region  TotalRevenue  TotalQuantity  Product\n",
      "0   East         50000              1        1\n",
      "1  North        100000              2        1\n",
      "2  South         60000              2        1\n",
      "3   West         90000              3        1\n"
     ]
    }
   ],
   "source": [
    "print(region_wise_kpi_report(df))"
   ]
  }
 ],
 "metadata": {
  "kernelspec": {
   "display_name": "Python 3 (ipykernel)",
   "language": "python",
   "name": "python3"
  },
  "language_info": {
   "codemirror_mode": {
    "name": "ipython",
    "version": 3
   },
   "file_extension": ".py",
   "mimetype": "text/x-python",
   "name": "python",
   "nbconvert_exporter": "python",
   "pygments_lexer": "ipython3",
   "version": "3.12.1"
  }
 },
 "nbformat": 4,
 "nbformat_minor": 5
}
